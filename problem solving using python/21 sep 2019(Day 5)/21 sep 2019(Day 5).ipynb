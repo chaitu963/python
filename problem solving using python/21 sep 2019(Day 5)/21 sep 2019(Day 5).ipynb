{
 "cells": [
  {
   "cell_type": "markdown",
   "metadata": {},
   "source": [
    "## Pandas"
   ]
  },
  {
   "cell_type": "code",
   "execution_count": 17,
   "metadata": {},
   "outputs": [],
   "source": [
    "import pandas as pd"
   ]
  },
  {
   "cell_type": "code",
   "execution_count": 6,
   "metadata": {},
   "outputs": [
    {
     "name": "stdout",
     "output_type": "stream",
     "text": [
      "1    a\n",
      "2    b\n",
      "3    c\n",
      "dtype: object\n"
     ]
    }
   ],
   "source": [
    "s3=pd.Series(['a','b','c'],index=[1,2,3])\n",
    "print(s3)"
   ]
  },
  {
   "cell_type": "code",
   "execution_count": 19,
   "metadata": {},
   "outputs": [
    {
     "name": "stdout",
     "output_type": "stream",
     "text": [
      "1     15\n",
      "2     20\n",
      "3      1\n",
      "4     10\n",
      "5     11\n",
      "6     12\n",
      "7      8\n",
      "8      1\n",
      "9      9\n",
      "10     4\n",
      "11    12\n",
      "12    17\n",
      "13    13\n",
      "14     5\n",
      "15    15\n",
      "16    20\n",
      "17    22\n",
      "18    20\n",
      "19     1\n",
      "20    23\n",
      "dtype: int64\n"
     ]
    }
   ],
   "source": [
    "import random\n",
    "r=[random.randint(1,25) for i in range(1,21)]\n",
    "#print(\"length is\",len(r))\n",
    "s4=pd.Series(r,index=list(range(1,21)))\n",
    "print(s4)"
   ]
  },
  {
   "cell_type": "code",
   "execution_count": 16,
   "metadata": {},
   "outputs": [
    {
     "name": "stdout",
     "output_type": "stream",
     "text": [
      "2019-09-21    1\n",
      "2019-09-22    2\n",
      "2019-09-23    3\n",
      "2019-09-24    4\n",
      "Freq: D, dtype: int64\n"
     ]
    }
   ],
   "source": [
    "s5=pd.Series([1,2,3,4],pd.date_range('21-09-2019','24-09-2019'))\n",
    "print(s5)"
   ]
  },
  {
   "cell_type": "code",
   "execution_count": 21,
   "metadata": {},
   "outputs": [
    {
     "name": "stdout",
     "output_type": "stream",
     "text": [
      "[2, 4, 6, 8, 10, 12, 14, 16, 18, 20]\n"
     ]
    }
   ],
   "source": [
    "l=[i for i in range(1,21) if i%2==0]\n",
    "print(l)"
   ]
  },
  {
   "cell_type": "code",
   "execution_count": 22,
   "metadata": {},
   "outputs": [
    {
     "data": {
      "text/plain": [
       "10"
      ]
     },
     "execution_count": 22,
     "metadata": {},
     "output_type": "execute_result"
    }
   ],
   "source": [
    "len(l)"
   ]
  },
  {
   "cell_type": "code",
   "execution_count": 26,
   "metadata": {},
   "outputs": [
    {
     "name": "stdout",
     "output_type": "stream",
     "text": [
      "2      2\n",
      "4      4\n",
      "6      6\n",
      "8      8\n",
      "10    10\n",
      "12    12\n",
      "14    14\n",
      "16    16\n",
      "18    18\n",
      "20    20\n",
      "dtype: int64\n"
     ]
    }
   ],
   "source": [
    "es=pd.Series(l,l)\n",
    "print(es)"
   ]
  },
  {
   "cell_type": "code",
   "execution_count": 30,
   "metadata": {},
   "outputs": [
    {
     "name": "stdout",
     "output_type": "stream",
     "text": [
      "1      2\n",
      "3      4\n",
      "5      6\n",
      "7      8\n",
      "9     10\n",
      "11    12\n",
      "13    14\n",
      "15    16\n",
      "17    18\n",
      "19    20\n",
      "dtype: int64\n"
     ]
    }
   ],
   "source": [
    "es=pd.Series(l,[i for i in range(1,21) if i%2!=0])\n",
    "print(es)"
   ]
  },
  {
   "cell_type": "code",
   "execution_count": 36,
   "metadata": {},
   "outputs": [
    {
     "name": "stdout",
     "output_type": "stream",
     "text": [
      "1        1\n",
      "2        8\n",
      "3       27\n",
      "4       64\n",
      "5      125\n",
      "6      216\n",
      "7      343\n",
      "8      512\n",
      "9      729\n",
      "10    1000\n",
      "dtype: int64\n"
     ]
    }
   ],
   "source": [
    "k=pd.Series([i**3 for i in range(1,10+1)],[i for i in range(1,10+1)])\n",
    "print(k)"
   ]
  },
  {
   "cell_type": "code",
   "execution_count": 39,
   "metadata": {},
   "outputs": [
    {
     "name": "stdout",
     "output_type": "stream",
     "text": [
      "s1    21\n",
      "s2    20\n",
      "s3    10\n",
      "s4    15\n",
      "dtype: int64\n",
      "s1    23\n",
      "s2    28\n",
      "s3    65\n",
      "s4    15\n",
      "dtype: int64\n"
     ]
    }
   ],
   "source": [
    "m1={'s1':21,'s2':20,'s3':10,'s4':15}\n",
    "mid1=pd.Series(m1)\n",
    "mid2=pd.Series({'s1':23,'s2':28,'s3':65,'s4':15})\n",
    "print(mid1)\n",
    "print(mid2)"
   ]
  },
  {
   "cell_type": "code",
   "execution_count": 43,
   "metadata": {},
   "outputs": [
    {
     "name": "stdout",
     "output_type": "stream",
     "text": [
      "    Mid1  Mid2\n",
      "s1    21    23\n",
      "s2    20    28\n",
      "s3    10    65\n",
      "s4    15    15\n"
     ]
    }
   ],
   "source": [
    "Mid=pd.DataFrame({\"Mid1\":mid1,\"Mid2\":mid2})\n",
    "print(Mid)"
   ]
  },
  {
   "cell_type": "code",
   "execution_count": 59,
   "metadata": {},
   "outputs": [
    {
     "name": "stdout",
     "output_type": "stream",
     "text": [
      "    Name  Age\n",
      "0   Raju   50\n",
      "1  Kiran   42\n",
      "2  Phani   34\n",
      "3   Babu   32\n"
     ]
    }
   ],
   "source": [
    "age=pd.DataFrame({\"Name\":['Raju','Kiran','Phani','Babu'],\"Age\":[50,42,34,32]})\n",
    "print(age)"
   ]
  },
  {
   "cell_type": "markdown",
   "metadata": {},
   "source": [
    "### Matpot"
   ]
  },
  {
   "cell_type": "code",
   "execution_count": 45,
   "metadata": {},
   "outputs": [],
   "source": [
    "import matplotlib.pyplot as p"
   ]
  },
  {
   "cell_type": "code",
   "execution_count": 46,
   "metadata": {},
   "outputs": [
    {
     "data": {
      "image/png": "[encoded data removed]",
      "text/plain": [
       "<Figure size 432x288 with 1 Axes>"
      ]
     },
     "metadata": {
      "needs_background": "light"
     },
     "output_type": "display_data"
    }
   ],
   "source": [
    "p.plot([1,2,3],[1,2,3])\n",
    "p.show()"
   ]
  },
  {
   "cell_type": "code",
   "execution_count": 55,
   "metadata": {},
   "outputs": [
    {
     "name": "stdout",
     "output_type": "stream",
     "text": [
      "[1, 4, 9, 16, 25]\n"
     ]
    },
    {
     "data": {
      "image/png": "[encoded data removed]",
      "text/plain": [
       "<Figure size 432x288 with 1 Axes>"
      ]
     },
     "metadata": {
      "needs_background": "light"
     },
     "output_type": "display_data"
    }
   ],
   "source": [
    "a=[1,2,3,4,5]\n",
    "b=[1,2,3,4,5]\n",
    "#a*b\n",
    "k=[a[i]*b[i] for i in range(0,len(a))]\n",
    "print(k)\n",
    "p.plot(k,a)\n",
    "p.title(\"k=at\")\n",
    "p.xlabel(\"k\")\n",
    "p.ylabel(\"a\")\n",
    "p.grid()\n",
    "p.show()"
   ]
  },
  {
   "cell_type": "code",
   "execution_count": 61,
   "metadata": {},
   "outputs": [
    {
     "data": {
      "image/png": "[encoded data removed]",
      "text/plain": [
       "<Figure size 432x288 with 1 Axes>"
      ]
     },
     "metadata": {
      "needs_background": "light"
     },
     "output_type": "display_data"
    }
   ],
   "source": [
    "p.plot(['Raju','Kiran','Phani','Babu'],[50,42,34,32],'yo')\n",
    "p.grid()\n",
    "p.show()"
   ]
  },
  {
   "cell_type": "code",
   "execution_count": null,
   "metadata": {},
   "outputs": [],
   "source": []
  }
 ],
 "metadata": {
  "kernelspec": {
   "display_name": "Python 3",
   "language": "python",
   "name": "python3"
  },
  "language_info": {
   "codemirror_mode": {
    "name": "ipython",
    "version": 3
   },
   "file_extension": ".py",
   "mimetype": "text/x-python",
   "name": "python",
   "nbconvert_exporter": "python",
   "pygments_lexer": "ipython3",
   "version": "3.7.3"
  }
 },
 "nbformat": 4,
 "nbformat_minor": 2
}
