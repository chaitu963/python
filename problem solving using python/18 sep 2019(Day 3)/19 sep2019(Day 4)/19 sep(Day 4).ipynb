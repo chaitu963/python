{
 "cells": [
  {
   "cell_type": "markdown",
   "metadata": {},
   "source": [
    "# Regular Expression"
   ]
  },
  {
   "cell_type": "markdown",
   "metadata": {},
   "source": [
    "#### phone number validation"
   ]
  },
  {
   "cell_type": "code",
   "execution_count": 5,
   "metadata": {},
   "outputs": [
    {
     "name": "stdout",
     "output_type": "stream",
     "text": [
      "enter a phone number9490171812\n",
      " phone number matched\n"
     ]
    }
   ],
   "source": [
    "import re \n",
    "def phone(n):\n",
    "    pattern=\"[9876][0-9]{9}|[0][9876][0-9]{9}[9][1][9876][0-9]{9}\"\n",
    "    if re.match(pattern,n):\n",
    "        print(' phone number matched')\n",
    "    else:\n",
    "        print('not valid')\n",
    "n=input(\"enter a phone number\")\n",
    "phone(n)"
   ]
  },
  {
   "cell_type": "markdown",
   "metadata": {},
   "source": [
    "## Mail validation"
   ]
  },
  {
   "cell_type": "code",
   "execution_count": 7,
   "metadata": {},
   "outputs": [
    {
     "name": "stdout",
     "output_type": "stream",
     "text": [
      "enter mailchaitanyavajapai@gmail.com\n",
      "matched the mail id\n"
     ]
    }
   ],
   "source": [
    "import re\n",
    "def mali(gmail):\n",
    "    pattern=\"[0-9a-z][a-z0-9._]{6,18}[0-9a-z][@][a-z0-9]{4,13}[.][a-z]{2,4}\"\n",
    "    if re.match(pattern,gmail):\n",
    "        print(\"matched the mail id\")\n",
    "    else:\n",
    "        print(\"not a valid mail\")\n",
    "gmail=input(\"enter mail\")\n",
    "mali(gmail)"
   ]
  },
  {
   "cell_type": "markdown",
   "metadata": {},
   "source": [
    "## File Handling"
   ]
  },
  {
   "cell_type": "code",
   "execution_count": 2,
   "metadata": {},
   "outputs": [
    {
     "name": "stdout",
     "output_type": "stream",
     "text": [
      "apssdc\n",
      "line \n",
      "line1 \n",
      "line2 \n"
     ]
    }
   ],
   "source": [
    "f=open(\"datafile/file.txt\",'r')\n",
    "print(f.read())"
   ]
  },
  {
   "cell_type": "code",
   "execution_count": 9,
   "metadata": {},
   "outputs": [
    {
     "name": "stdout",
     "output_type": "stream",
     "text": [
      "line inserted\n"
     ]
    }
   ],
   "source": [
    "with open(\"datafile/file.txt\",'r') as fr:\n",
    "    print(fr.read())\n"
   ]
  },
  {
   "cell_type": "code",
   "execution_count": 10,
   "metadata": {},
   "outputs": [
    {
     "name": "stdout",
     "output_type": "stream",
     "text": [
      "13\n"
     ]
    }
   ],
   "source": [
    "with open(\"datafile/file.txt\",'w') as fw:\n",
    "    print(fw.write('line inserted'))"
   ]
  },
  {
   "cell_type": "code",
   "execution_count": 12,
   "metadata": {},
   "outputs": [
    {
     "name": "stdout",
     "output_type": "stream",
     "text": [
      "27\n"
     ]
    }
   ],
   "source": [
    "with open(\"datafile/file.txt\",'a') as fa:\n",
    "    print(fa.write('\\n''line inserted successfully'))"
   ]
  },
  {
   "cell_type": "code",
   "execution_count": 19,
   "metadata": {},
   "outputs": [
    {
     "name": "stdout",
     "output_type": "stream",
     "text": [
      "1\n",
      "1\n",
      "1\n",
      "1\n",
      "1\n",
      "1\n",
      "1\n",
      "1\n",
      "1\n"
     ]
    }
   ],
   "source": [
    "with open(\"datafile/file.txt\",'w') as nw:\n",
    "    for i in range(1,10):\n",
    "        j=str(i)\n",
    "        print(nw.write(j))"
   ]
  },
  {
   "cell_type": "code",
   "execution_count": 1,
   "metadata": {},
   "outputs": [
    {
     "name": "stdout",
     "output_type": "stream",
     "text": [
      "hi\n",
      "helo\n",
      "how r u\n",
      "how am i looking\n"
     ]
    }
   ],
   "source": [
    "with open(\"datafile/new.txt\",'w') as n:\n",
    "    for i in range(1,5):\n",
    "        s=input()\n",
    "        n.write(s)"
   ]
  },
  {
   "cell_type": "code",
   "execution_count": 23,
   "metadata": {},
   "outputs": [],
   "source": [
    "with open(\"datafile/new.txt\",'w') as n:\n",
    "    for i in range(1,11):\n",
    "        n.write(str(i))\n",
    "        n.write('\\n')"
   ]
  },
  {
   "cell_type": "code",
   "execution_count": 25,
   "metadata": {},
   "outputs": [
    {
     "name": "stdout",
     "output_type": "stream",
     "text": [
      "1\n",
      "2\n",
      "3\n",
      "4\n",
      "5\n",
      "6\n",
      "7\n",
      "8\n",
      "9\n",
      "10\n",
      "\n",
      "\n",
      "\n",
      "\n",
      "\n",
      "\n",
      "\n",
      "\n",
      "\n",
      "\n",
      "55\n",
      "5.5\n"
     ]
    }
   ],
   "source": [
    "filename=\"datafile/new.txt\"\n",
    "def avgfno(filename):\n",
    "    s=0\n",
    "    with open(filename,'r') as nr:\n",
    "        for i in range(1,11):\n",
    "            print(nr.read())\n",
    "            s=s+i\n",
    "            c=s/10\n",
    "        print(s)\n",
    "        print(c)\n",
    "avgfno(\"datafile/new.txt\")\n"
   ]
  },
  {
   "cell_type": "code",
   "execution_count": 29,
   "metadata": {},
   "outputs": [
    {
     "name": "stdout",
     "output_type": "stream",
     "text": [
      "python \n",
      "is\n",
      "a\n",
      "programming\n",
      "language\n",
      "and\n",
      "its \n",
      "a\n",
      "easy\n",
      "way \n"
     ]
    }
   ],
   "source": [
    "with open(\"datafile/text.txt\",'w') as t:\n",
    "    for i in range(1,11):\n",
    "        s=input()\n",
    "        t.write(s)\n",
    "        t.write(' ')\n"
   ]
  },
  {
   "cell_type": "code",
   "execution_count": 32,
   "metadata": {},
   "outputs": [
    {
     "name": "stdout",
     "output_type": "stream",
     "text": [
      "python\n",
      "is\n",
      "a\n",
      "programming\n",
      "language\n",
      "and\n",
      "its\n",
      "a\n",
      "easy\n",
      "way\n"
     ]
    }
   ],
   "source": [
    "with open('datafile/text.txt','r') as tr:\n",
    "    r=tr.read()\n",
    "    d=r.split()\n",
    "    for i in d:\n",
    "        print(i)"
   ]
  },
  {
   "cell_type": "code",
   "execution_count": 35,
   "metadata": {},
   "outputs": [
    {
     "name": "stdout",
     "output_type": "stream",
     "text": [
      "['1', '2', '3', '4', '5', '6', '7', '8', '9', '10']\n",
      "55 10\n",
      "5.5\n"
     ]
    }
   ],
   "source": [
    "with open('datafile/new.txt','r') as tr:\n",
    "    s=0\n",
    "    c=0\n",
    "    r=tr.read()\n",
    "    d=r.split()\n",
    "    print(d)\n",
    "    for i in d:\n",
    "        s=s+int(i)\n",
    "        c=c+1\n",
    "    print(s,c)\n",
    "    print(s/c)"
   ]
  },
  {
   "cell_type": "code",
   "execution_count": null,
   "metadata": {},
   "outputs": [],
   "source": []
  }
 ],
 "metadata": {
  "kernelspec": {
   "display_name": "Python 3",
   "language": "python",
   "name": "python3"
  },
  "language_info": {
   "codemirror_mode": {
    "name": "ipython",
    "version": 3
   },
   "file_extension": ".py",
   "mimetype": "text/x-python",
   "name": "python",
   "nbconvert_exporter": "python",
   "pygments_lexer": "ipython3",
   "version": "3.7.3"
  }
 },
 "nbformat": 4,
 "nbformat_minor": 2
}
