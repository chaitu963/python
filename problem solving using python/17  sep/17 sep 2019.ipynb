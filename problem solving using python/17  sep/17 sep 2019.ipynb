{
 "cells": [
  {
   "cell_type": "markdown",
   "metadata": {},
   "source": [
    "# Markdown basics:\n",
    "* **bold**\n",
    "* *italic*\n",
    "* ***bolditalic***\n",
    "* *normal text\n",
    "    * *text1\n",
    "   * *text2\n",
    "    "
   ]
  },
  {
   "cell_type": "markdown",
   "metadata": {},
   "source": [
    "<img src=\"jupyter.png\">"
   ]
  },
  {
   "cell_type": "code",
   "execution_count": 2,
   "metadata": {},
   "outputs": [
    {
     "data": {
      "text/plain": [
       "1"
      ]
     },
     "execution_count": 2,
     "metadata": {},
     "output_type": "execute_result"
    }
   ],
   "source": [
    "i=1\n",
    "i"
   ]
  },
  {
   "cell_type": "code",
   "execution_count": 3,
   "metadata": {},
   "outputs": [
    {
     "name": "stdout",
     "output_type": "stream",
     "text": [
      "1 2 3\n"
     ]
    }
   ],
   "source": [
    "i,j,k=1,2,3\n",
    "print(i,j,k)"
   ]
  },
  {
   "cell_type": "code",
   "execution_count": 4,
   "metadata": {},
   "outputs": [],
   "source": [
    "j=k"
   ]
  },
  {
   "cell_type": "code",
   "execution_count": 5,
   "metadata": {},
   "outputs": [
    {
     "data": {
      "text/plain": [
       "3"
      ]
     },
     "execution_count": 5,
     "metadata": {},
     "output_type": "execute_result"
    }
   ],
   "source": [
    "j"
   ]
  },
  {
   "cell_type": "code",
   "execution_count": 6,
   "metadata": {},
   "outputs": [
    {
     "name": "stdout",
     "output_type": "stream",
     "text": [
      "hello world\n"
     ]
    }
   ],
   "source": [
    "a,b=\"hello\",\"world\"\n",
    "print(a,b)"
   ]
  },
  {
   "cell_type": "markdown",
   "metadata": {},
   "source": [
    "# Type casting:"
   ]
  },
  {
   "cell_type": "code",
   "execution_count": 10,
   "metadata": {},
   "outputs": [
    {
     "name": "stdout",
     "output_type": "stream",
     "text": [
      "5\n",
      "5.0\n",
      "5\n"
     ]
    }
   ],
   "source": [
    "m=5 \n",
    "n=float(m)\n",
    "o=str(m)\n",
    "k=int(o)\n",
    "print(o)\n",
    "print(n)\n",
    "print(k)"
   ]
  },
  {
   "cell_type": "markdown",
   "metadata": {},
   "source": [
    "# Arthimatic operation in python:\n",
    "* +\n",
    "* -\n",
    "* *\n",
    "* /\n",
    "* %\n",
    "* **\n"
   ]
  },
  {
   "cell_type": "code",
   "execution_count": 11,
   "metadata": {},
   "outputs": [
    {
     "data": {
      "text/plain": [
       "8"
      ]
     },
     "execution_count": 11,
     "metadata": {},
     "output_type": "execute_result"
    }
   ],
   "source": [
    "2+6"
   ]
  },
  {
   "cell_type": "code",
   "execution_count": 12,
   "metadata": {},
   "outputs": [
    {
     "data": {
      "text/plain": [
       "-36"
      ]
     },
     "execution_count": 12,
     "metadata": {},
     "output_type": "execute_result"
    }
   ],
   "source": [
    "54-90"
   ]
  },
  {
   "cell_type": "code",
   "execution_count": 13,
   "metadata": {},
   "outputs": [
    {
     "data": {
      "text/plain": [
       "36"
      ]
     },
     "execution_count": 13,
     "metadata": {},
     "output_type": "execute_result"
    }
   ],
   "source": [
    "90-54"
   ]
  },
  {
   "cell_type": "code",
   "execution_count": 14,
   "metadata": {},
   "outputs": [
    {
     "data": {
      "text/plain": [
       "1300"
      ]
     },
     "execution_count": 14,
     "metadata": {},
     "output_type": "execute_result"
    }
   ],
   "source": [
    "25*52"
   ]
  },
  {
   "cell_type": "code",
   "execution_count": 15,
   "metadata": {},
   "outputs": [
    {
     "data": {
      "text/plain": [
       "4.166666666666667"
      ]
     },
     "execution_count": 15,
     "metadata": {},
     "output_type": "execute_result"
    }
   ],
   "source": [
    "25/6\n"
   ]
  },
  {
   "cell_type": "code",
   "execution_count": 16,
   "metadata": {},
   "outputs": [
    {
     "name": "stdout",
     "output_type": "stream",
     "text": [
      "addition is a and b 362\n"
     ]
    }
   ],
   "source": [
    "a=6\n",
    "b=356\n",
    "c=a+b\n",
    "print(\"addition is a and b\",c)"
   ]
  },
  {
   "cell_type": "code",
   "execution_count": 18,
   "metadata": {},
   "outputs": [
    {
     "name": "stdout",
     "output_type": "stream",
     "text": [
      "subtraction is 359\n"
     ]
    }
   ],
   "source": [
    "a=6\n",
    "b=365\n",
    "c=b-a\n",
    "print(\"subtraction is\",c)"
   ]
  },
  {
   "cell_type": "code",
   "execution_count": 19,
   "metadata": {},
   "outputs": [
    {
     "name": "stdout",
     "output_type": "stream",
     "text": [
      "multiplicaion  is 2190\n"
     ]
    }
   ],
   "source": [
    "a=6\n",
    "b=365\n",
    "c=a*b\n",
    "print(\"multiplicaion  is\",c)"
   ]
  },
  {
   "cell_type": "code",
   "execution_count": 20,
   "metadata": {},
   "outputs": [
    {
     "name": "stdout",
     "output_type": "stream",
     "text": [
      "division is 0.01643835616438356\n"
     ]
    }
   ],
   "source": [
    "a=6\n",
    "b=365\n",
    "c=a/b\n",
    "print(\"division is\",c)"
   ]
  },
  {
   "cell_type": "code",
   "execution_count": 21,
   "metadata": {},
   "outputs": [
    {
     "name": "stdout",
     "output_type": "stream",
     "text": [
      "power is 105975723459934506732276901463075784994784306800227796170780561985838960204612999010738727869967136236201745905750909328007052610582249494678145554196785703065661439615879302053454315515174627380955348570111412777213250065796057427842433040097557265739872241572231942853108048462872576\n"
     ]
    }
   ],
   "source": [
    "a=6\n",
    "b=365\n",
    "c=a**b\n",
    "print(\"power is\",c)"
   ]
  },
  {
   "cell_type": "code",
   "execution_count": 22,
   "metadata": {},
   "outputs": [
    {
     "name": "stdout",
     "output_type": "stream",
     "text": [
      "modulus  is 6\n"
     ]
    }
   ],
   "source": [
    "a=6\n",
    "b=365\n",
    "c=a%b\n",
    "print(\"modulus  is\",c)"
   ]
  },
  {
   "cell_type": "markdown",
   "metadata": {},
   "source": [
    "# Indendation:\n"
   ]
  },
  {
   "cell_type": "code",
   "execution_count": 23,
   "metadata": {},
   "outputs": [
    {
     "name": "stdout",
     "output_type": "stream",
     "text": [
      "i is graeter than 5\n"
     ]
    }
   ],
   "source": [
    "i=10\n",
    "if i>5:\n",
    "    print(\"i is graeter than 5\")\n",
    "else:\n",
    "    print(\"i is less than 5\")"
   ]
  },
  {
   "cell_type": "code",
   "execution_count": 29,
   "metadata": {},
   "outputs": [
    {
     "name": "stdout",
     "output_type": "stream",
     "text": [
      "else is executed\n"
     ]
    }
   ],
   "source": [
    "i=10\n",
    "if i<5:\n",
    "    print(\"if statment executed\")\n",
    "elif i!=10:\n",
    "    print(\"else if executed\")\n",
    "else:\n",
    "    print(\"else is executed\")"
   ]
  },
  {
   "cell_type": "code",
   "execution_count": 35,
   "metadata": {},
   "outputs": [
    {
     "name": "stdout",
     "output_type": "stream",
     "text": [
      "enter a value  20\n",
      "40\n"
     ]
    }
   ],
   "source": [
    "i=int(input(\"enter a value  \"))\n",
    "print(i+20)"
   ]
  },
  {
   "cell_type": "code",
   "execution_count": 37,
   "metadata": {},
   "outputs": [
    {
     "name": "stdout",
     "output_type": "stream",
     "text": [
      "enter a value23652\n",
      "its a positive number\n"
     ]
    }
   ],
   "source": [
    "i=(int(input(\"enter a value\")))\n",
    "if i>0:\n",
    "    print(\"its a positive number\")\n",
    "else: \n",
    "    print(\"its a negative number\")"
   ]
  },
  {
   "cell_type": "markdown",
   "metadata": {},
   "source": [
    "# String:\n",
    " indexing and slicing"
   ]
  },
  {
   "cell_type": "code",
   "execution_count": 66,
   "metadata": {},
   "outputs": [
    {
     "name": "stdout",
     "output_type": "stream",
     "text": [
      "H\n",
      "D\n",
      "HELLO\n",
      "WORLD!\n",
      "!DLROW OLLEH\n",
      "!LO LE\n",
      "HLOWRD\n",
      "D!\n",
      "D!\n",
      "LO WORL\n",
      "LO WORL\n",
      "HLOWRD\n"
     ]
    }
   ],
   "source": [
    "s=\"HELLO WORLD!\"\n",
    "print(s[0])\n",
    "print(s[10])\n",
    "print(s[0:5])\n",
    "print(s[-6:])\n",
    "print(s[::-1])\n",
    "print(s[::-2])\n",
    "print(s[::2])\n",
    "print(s[-2:])\n",
    "print(s[10:])\n",
    "print(s[-9:-2])\n",
    "print(s[3:10])\n",
    "print(s[::2])"
   ]
  },
  {
   "cell_type": "markdown",
   "metadata": {},
   "source": [
    "# Methods in string"
   ]
  },
  {
   "cell_type": "code",
   "execution_count": 72,
   "metadata": {},
   "outputs": [
    {
     "name": "stdout",
     "output_type": "stream",
     "text": [
      "['hello', 'world!']\n",
      "world!\n"
     ]
    }
   ],
   "source": [
    "s='hello world!'\n",
    "a=s.split()\n",
    "l1=s.split()\n",
    "print(a)\n",
    "print(l1[-1])"
   ]
  },
  {
   "cell_type": "code",
   "execution_count": 75,
   "metadata": {},
   "outputs": [
    {
     "name": "stdout",
     "output_type": "stream",
     "text": [
      "check if string given string is pallendrom or not\n",
      "['check', 'if', 'string', 'given', 'string', 'is', 'pallendrom', 'or', 'not']\n"
     ]
    }
   ],
   "source": [
    "s2='check if string given string is pallendrom or not'\n",
    "l1=s2.split()\n",
    "print(s2)\n",
    "print(l1)"
   ]
  },
  {
   "cell_type": "code",
   "execution_count": 1,
   "metadata": {},
   "outputs": [
    {
     "name": "stdout",
     "output_type": "stream",
     "text": [
      "check if string given string is pallendrom or not\n",
      "['check', 'if', 'string', 'given', 'string', 'is', 'pallendrom', 'or', 'not']\n"
     ]
    }
   ],
   "source": [
    "s2='check if string given string is pallendrom or not'\n",
    "l1=s2.split()\n",
    "print(s2)\n",
    "print(l1)"
   ]
  },
  {
   "cell_type": "code",
   "execution_count": 4,
   "metadata": {},
   "outputs": [
    {
     "name": "stdout",
     "output_type": "stream",
     "text": [
      "enter a stringchaitu@vajpayee\n",
      "['chaitu', 'vajpayee']\n"
     ]
    }
   ],
   "source": [
    "s=input(\"enter a string\")\n",
    "l3=s.split('@')\n",
    "print(l3)"
   ]
  },
  {
   "cell_type": "code",
   "execution_count": 5,
   "metadata": {},
   "outputs": [
    {
     "name": "stdout",
     "output_type": "stream",
     "text": [
      "chaitu#vajpayee\n"
     ]
    }
   ],
   "source": [
    "l4='#'.join(l3)\n",
    "print(l4)"
   ]
  },
  {
   "cell_type": "code",
   "execution_count": 7,
   "metadata": {},
   "outputs": [
    {
     "name": "stdout",
     "output_type": "stream",
     "text": [
      "check if string given string is pallendrom or not\n",
      "check@#if@#string@#given@#string@#is@#pallendrom@#or@#not\n"
     ]
    }
   ],
   "source": [
    "s2='check if string given string is pallendrom or not'\n",
    "l1=s2.split()\n",
    "print(s2)\n",
    "j1='@#'.join(l1)\n",
    "print(j1)"
   ]
  },
  {
   "cell_type": "markdown",
   "metadata": {},
   "source": [
    "# islower and isupper"
   ]
  },
  {
   "cell_type": "code",
   "execution_count": 8,
   "metadata": {},
   "outputs": [
    {
     "name": "stdout",
     "output_type": "stream",
     "text": [
      "its lower\n"
     ]
    }
   ],
   "source": [
    "s1='cse'\n",
    "if s.islower():\n",
    "    print(\"its lower\")\n",
    "else:\n",
    "    print(\"its upper\")"
   ]
  },
  {
   "cell_type": "code",
   "execution_count": 10,
   "metadata": {},
   "outputs": [
    {
     "name": "stdout",
     "output_type": "stream",
     "text": [
      "its upper\n"
     ]
    }
   ],
   "source": [
    "s1='CSE'\n",
    "if s1.isupper():\n",
    "    print(\"its upper\")\n",
    "else:\n",
    "    print(\"its lower\")"
   ]
  },
  {
   "cell_type": "markdown",
   "metadata": {},
   "source": [
    "# lower"
   ]
  },
  {
   "cell_type": "code",
   "execution_count": 12,
   "metadata": {},
   "outputs": [
    {
     "name": "stdout",
     "output_type": "stream",
     "text": [
      "string is lower\n"
     ]
    }
   ],
   "source": [
    "s1='string IS loWER'\n",
    "a=s1.lower()\n",
    "print(a)"
   ]
  },
  {
   "cell_type": "markdown",
   "metadata": {},
   "source": [
    "# upper"
   ]
  },
  {
   "cell_type": "code",
   "execution_count": 14,
   "metadata": {},
   "outputs": [
    {
     "name": "stdout",
     "output_type": "stream",
     "text": [
      "STRING IS UPPER\n"
     ]
    }
   ],
   "source": [
    "s1='string IS upper'\n",
    "a=s1.upper()\n",
    "print(a)"
   ]
  },
  {
   "cell_type": "markdown",
   "metadata": {},
   "source": [
    "# count"
   ]
  },
  {
   "cell_type": "code",
   "execution_count": 16,
   "metadata": {},
   "outputs": [
    {
     "name": "stdout",
     "output_type": "stream",
     "text": [
      "3\n"
     ]
    }
   ],
   "source": [
    "s='check if string given string is pallendrom or not'\n",
    "a=s.count('s')\n",
    "print(a)"
   ]
  },
  {
   "cell_type": "markdown",
   "metadata": {},
   "source": [
    "# pallendrom"
   ]
  },
  {
   "cell_type": "code",
   "execution_count": 9,
   "metadata": {},
   "outputs": [
    {
     "name": "stdout",
     "output_type": "stream",
     "text": [
      "enter a string141\n",
      "its a pallendrom\n"
     ]
    }
   ],
   "source": [
    "n = input('enter a string')\n",
    "rs = n[::-1]\n",
    "\n",
    "if rs == n:\n",
    "    print('its a pallendrom')\n",
    "else:\n",
    "    print('not a pallendrom')"
   ]
  },
  {
   "cell_type": "markdown",
   "metadata": {},
   "source": [
    "# 2. Python Functions"
   ]
  },
  {
   "cell_type": "code",
   "execution_count": 3,
   "metadata": {},
   "outputs": [
    {
     "name": "stdout",
     "output_type": "stream",
     "text": [
      "14\n"
     ]
    }
   ],
   "source": [
    "s=\"good afternoon\"\n",
    "print(len(s))"
   ]
  },
  {
   "cell_type": "code",
   "execution_count": 4,
   "metadata": {},
   "outputs": [
    {
     "data": {
      "text/plain": [
       "float"
      ]
     },
     "execution_count": 4,
     "metadata": {},
     "output_type": "execute_result"
    }
   ],
   "source": [
    "i=2580\n",
    "j=\"vaj\"\n",
    "k=12692.2554\n",
    "type(i)\n",
    "type(j)\n",
    "type(k)"
   ]
  },
  {
   "cell_type": "markdown",
   "metadata": {},
   "source": [
    "# without arguments & without return value \n",
    "* addition of 2 numbers"
   ]
  },
  {
   "cell_type": "code",
   "execution_count": 9,
   "metadata": {},
   "outputs": [
    {
     "name": "stdout",
     "output_type": "stream",
     "text": [
      "enter a vaue 20\n",
      "enter a value 20\n",
      "40\n"
     ]
    }
   ],
   "source": [
    "def addition():\n",
    "    a=int(input(\"enter a vaue \"))\n",
    "    b=int(input(\"enter a value \"))\n",
    "    c=a+b\n",
    "    print(c)\n",
    "addition()"
   ]
  },
  {
   "cell_type": "markdown",
   "metadata": {},
   "source": [
    "# without arguments &return type:\n",
    " * multiplication"
   ]
  },
  {
   "cell_type": "code",
   "execution_count": 15,
   "metadata": {},
   "outputs": [
    {
     "name": "stdout",
     "output_type": "stream",
     "text": [
      "enter a vaue 2\n",
      "enter a value 32\n",
      "64\n"
     ]
    }
   ],
   "source": [
    "def mul():\n",
    "    i=int(input(\"enter a vaue \"))\n",
    "    j=int(input(\"enter a value \"))\n",
    "    k=i*j\n",
    "    return k;\n",
    "print(mul())"
   ]
  },
  {
   "cell_type": "markdown",
   "metadata": {},
   "source": [
    "# with arguments & without return\n",
    "* addition"
   ]
  },
  {
   "cell_type": "code",
   "execution_count": 17,
   "metadata": {},
   "outputs": [],
   "source": [
    "def addition(i,j):\n",
    "    k=i+j\n",
    "    print(k)\n",
    "\n"
   ]
  },
  {
   "cell_type": "code",
   "execution_count": 18,
   "metadata": {},
   "outputs": [
    {
     "name": "stdout",
     "output_type": "stream",
     "text": [
      "enter a value20\n",
      "enter a value70\n",
      "90\n"
     ]
    }
   ],
   "source": [
    "i=int(input(\"enter a value\"))\n",
    "j=int(input(\"enter a value\"))\n",
    "addition(i,j)"
   ]
  },
  {
   "cell_type": "markdown",
   "metadata": {},
   "source": [
    "# with arguments and return values\n",
    "multiplication"
   ]
  },
  {
   "cell_type": "code",
   "execution_count": 25,
   "metadata": {},
   "outputs": [],
   "source": [
    "def mul(i,j):\n",
    "    k=i*j\n",
    "    return k\n"
   ]
  },
  {
   "cell_type": "code",
   "execution_count": 30,
   "metadata": {},
   "outputs": [
    {
     "name": "stdout",
     "output_type": "stream",
     "text": [
      "enter a value2\n",
      "enter a value20\n"
     ]
    }
   ],
   "source": [
    "i=int(input(\"enter a value\"))\n",
    "j=int(input(\"enter a value\"))\n",
    "k=mul(i,j)\n"
   ]
  },
  {
   "cell_type": "code",
   "execution_count": 31,
   "metadata": {},
   "outputs": [
    {
     "name": "stdout",
     "output_type": "stream",
     "text": [
      "40\n"
     ]
    }
   ],
   "source": [
    "print(k)"
   ]
  },
  {
   "cell_type": "markdown",
   "metadata": {},
   "source": [
    "# task\n",
    "\n"
   ]
  },
  {
   "cell_type": "code",
   "execution_count": 46,
   "metadata": {},
   "outputs": [
    {
     "name": "stdout",
     "output_type": "stream",
     "text": [
      "enter a value2014\n",
      "not a leap \n"
     ]
    }
   ],
   "source": [
    "a=int(input(\"enter a value\"))\n",
    "if (a%400==0) or (a%4==0) and (a%100 !=0):\n",
    "    print(\"leap year\")\n",
    "else:\n",
    "    print(\"not a leap \")"
   ]
  },
  {
   "cell_type": "code",
   "execution_count": 49,
   "metadata": {},
   "outputs": [],
   "source": [
    "def leapornot(y):\n",
    "    if ((y%4==0) and (y%100!=0)) or(y%400==0):\n",
    "        print('leap')\n",
    "    else:\n",
    "        print('not')\n"
   ]
  },
  {
   "cell_type": "code",
   "execution_count": 51,
   "metadata": {},
   "outputs": [
    {
     "name": "stdout",
     "output_type": "stream",
     "text": [
      "leap\n"
     ]
    }
   ],
   "source": [
    "leapornot(1600)"
   ]
  },
  {
   "cell_type": "code",
   "execution_count": 52,
   "metadata": {},
   "outputs": [],
   "source": [
    "def evenorodd(a):\n",
    "    if (a%2==0):\n",
    "        print(\"even\")\n",
    "    else:\n",
    "        print(\"odd\")\n",
    "        "
   ]
  },
  {
   "cell_type": "code",
   "execution_count": 53,
   "metadata": {},
   "outputs": [
    {
     "name": "stdout",
     "output_type": "stream",
     "text": [
      "even\n"
     ]
    }
   ],
   "source": [
    "evenorodd(10)"
   ]
  },
  {
   "cell_type": "markdown",
   "metadata": {},
   "source": [
    "# iteration:\n",
    " * loop  \n",
    "    * for\n",
    "    * while \n",
    "    * do while"
   ]
  },
  {
   "cell_type": "code",
   "execution_count": 63,
   "metadata": {},
   "outputs": [
    {
     "name": "stdout",
     "output_type": "stream",
     "text": [
      "enter a value10\n",
      "1,2,3,4,5,6,7,8,9,10,"
     ]
    }
   ],
   "source": [
    "n=int(input(\"enter a value\"))\n",
    "for i in range(1,n+1):\n",
    "    print(i,end=',')"
   ]
  },
  {
   "cell_type": "code",
   "execution_count": 67,
   "metadata": {},
   "outputs": [
    {
     "name": "stdout",
     "output_type": "stream",
     "text": [
      "enter a value100\n",
      "0,5,10,15,20,25,30,35,40,45,50,55,60,65,70,75,80,85,90,95,100,105,110,115,120,125,130,135,140,145,150,155,160,165,170,175,180,185,190,195,200,205,210,215,220,225,230,235,240,245,250,255,260,265,270,275,280,285,290,295,300,305,310,315,320,325,330,335,340,345,350,355,360,365,370,375,380,385,390,395,400,405,410,415,420,425,430,435,440,445,450,455,460,465,470,475,480,485,490,495,500,505,510,515,520,"
     ]
    }
   ],
   "source": [
    "n=int(input(\"enter a value\"))\n",
    "for i in range(0,n+5):\n",
    "    i=i*5\n",
    "    print(i,end=',')"
   ]
  },
  {
   "cell_type": "code",
   "execution_count": 68,
   "metadata": {},
   "outputs": [
    {
     "name": "stdout",
     "output_type": "stream",
     "text": [
      "enter a value100\n",
      "0,5,10,15,20,25,30,35,40,45,50,55,60,65,70,75,80,85,90,95,100,"
     ]
    }
   ],
   "source": [
    "n=int(input(\"enter a value\"))\n",
    "for i in range(0,n+1,5):\n",
    "    \n",
    "    print(i,end=',')"
   ]
  },
  {
   "cell_type": "code",
   "execution_count": 70,
   "metadata": {},
   "outputs": [
    {
     "name": "stdout",
     "output_type": "stream",
     "text": [
      "10\n",
      "1 2 3 4 5 6 7 8 9 "
     ]
    }
   ],
   "source": [
    "i=1\n",
    "n=int(input())\n",
    "while i<n:\n",
    "    print(i,end=' ')\n",
    "    i=i+1\n",
    "    "
   ]
  },
  {
   "cell_type": "code",
   "execution_count": 71,
   "metadata": {},
   "outputs": [],
   "source": [
    "def natural(n):\n",
    "    i=1\n",
    "    while i<=n:\n",
    "        print(i,end =' ')\n",
    "        i=i+1"
   ]
  },
  {
   "cell_type": "code",
   "execution_count": 72,
   "metadata": {},
   "outputs": [
    {
     "name": "stdout",
     "output_type": "stream",
     "text": [
      "1 2 3 4 5 6 7 8 9 10 "
     ]
    }
   ],
   "source": [
    "natural(10\n",
    "    )"
   ]
  },
  {
   "cell_type": "code",
   "execution_count": null,
   "metadata": {},
   "outputs": [],
   "source": []
  }
 ],
 "metadata": {
  "kernelspec": {
   "display_name": "Python 3",
   "language": "python",
   "name": "python3"
  },
  "language_info": {
   "codemirror_mode": {
    "name": "ipython",
    "version": 3
   },
   "file_extension": ".py",
   "mimetype": "text/x-python",
   "name": "python",
   "nbconvert_exporter": "python",
   "pygments_lexer": "ipython3",
   "version": "3.7.3"
  }
 },
 "nbformat": 4,
 "nbformat_minor": 2
}
